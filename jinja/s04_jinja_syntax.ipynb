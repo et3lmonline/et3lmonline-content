{
 "cells": [
  {
   "cell_type": "code",
   "execution_count": 1,
   "metadata": {},
   "outputs": [],
   "source": [
    "from jinja2 import Template"
   ]
  },
  {
   "cell_type": "markdown",
   "metadata": {},
   "source": [
    "## Variables / Assignments"
   ]
  },
  {
   "cell_type": "code",
   "execution_count": null,
   "metadata": {},
   "outputs": [],
   "source": [
    "var_rendered = Template(\"\"\"\n",
    "{% set name = \"ahmed\" %}\n",
    "{% set items = [ 'item_01','PRODUCT_02','item_03','item_02','item_04','PRODUCT_01' ] %}\n",
    "{% set orders = [ (1, 'giza', 'delivered'), (1, 'cairo', 'cancelled'), (3, 'giza', 'pending') ] %}\n",
    "{% set user = dict(name=\"ahmed\", age=32, city=\"CAIRO\" ) %}\n",
    "{% set dates = [ '2024-05-12', '2024-06-07', '2024-11-07' ] %}\n",
    "{% set dates_sql = [ \"'2024-05-12'\", \"'2024-06-07'\", \"'2024-11-07'\" ] %}\n",
    "\n",
    "{{ name }} {# ahmed #}\n",
    "{{ items.2 }} {# item_03 #}\n",
    "{{ user.age }} {# 32 #}\n",
    "{{ orders.2.1 }} {# giza #}\n",
    "\"\"\").render()\n",
    "# print(var_rendered)\n",
    "print(var_rendered.strip())"
   ]
  },
  {
   "cell_type": "markdown",
   "metadata": {},
   "source": [
    "## Functions / [Filters](https://jinja.palletsprojects.com/en/stable/templates/#list-of-builtin-filters)\n",
    "⛔ Check the full list of built-in filters in the link above.\n",
    "- **Numbers**: `abs` / `float` / `int` / `max` / `min` / `random` / `round` / `sum`\n",
    "- **String**: `capitalize` / `lower` / `replace` / `reverse` / `string` / `title` / `trim` / `upper` / wordcount\n",
    "- **Sequence** (string/list/dict/tuple): `first` / `last` / `sort` / `unique`\n",
    "- **select/reject**: `reject` / `rejectattr` / `select` / `selectattr`"
   ]
  },
  {
   "cell_type": "code",
   "execution_count": null,
   "metadata": {},
   "outputs": [],
   "source": [
    "# string\n",
    "string_filters = Template(\n",
    "\"\"\"\n",
    "{% set name = \"ahmed\" %}\n",
    "{% set city = \"alex\" %}\n",
    "{% set sentence = \"   Hi, this is a Jinja variable    \" %}\n",
    "{% set user = dict(name=\"ahmed\", age=32, city=\"CAIRO\" ) %}\n",
    "{% set dates = [ '2024-05-12', '2024-06-07', '2024-11-07' ] %}\n",
    "{% set dates_sql = [ \"'2024-05-12'\", \"'2024-06-07'\", \"'2024-11-07'\" ] %}\n",
    "\n",
    "{{ name }} | upper >> {{ name | upper }}\n",
    "concat | ~ >> {{ name ~ ' from ' ~ city}}\n",
    "{{ name }} | capitalize >> {{ name | capitalize }}\n",
    "{{ user }} | tojson >> {{ user | tojson }}\n",
    "{{ sentence }} | title >> {{ sentence | title }}\n",
    "{{ sentence }} | trim >> {{ sentence | trim }}\n",
    "{{ dates }} | join >> ({{ dates | join(\", \") }})\n",
    "{{ dates_sql }} | join >> ({{ dates_sql | join(\", \") }})\n",
    "\"\"\"\n",
    ").render()\n",
    "print(string_filters.strip())"
   ]
  },
  {
   "cell_type": "markdown",
   "metadata": {},
   "source": [
    "## `if` Statement"
   ]
  },
  {
   "cell_type": "code",
   "execution_count": null,
   "metadata": {},
   "outputs": [],
   "source": [
    "if_stmt_01 = Template(\n",
    "\"\"\"\n",
    "{% set user = dict(name=\"ahmed\", age=32, city=\"CAIRO\" ) %}\n",
    "{% set age_threshold = 35 %}\n",
    "\n",
    "{% if user.age < age_threshold %}\n",
    "⚠ User's age must be greater than {{age_threshold}}.\n",
    "{% endif %}\n",
    "\"\"\"\n",
    ").render()\n",
    "print(if_stmt_01.strip())\n",
    "# We don't have to pass `{{}}` in statement blocks `{% %}`"
   ]
  },
  {
   "cell_type": "code",
   "execution_count": null,
   "metadata": {},
   "outputs": [],
   "source": [
    "if_stmt_02 = Template(\n",
    "\"\"\"\n",
    "{% set user = dict(name=\"ahmed\", age=32, city=\"CAIRO\" ) %}\n",
    "{% set age_threshold = 30 %}\n",
    "\n",
    "{% if user.age < age_threshold %}\n",
    "⚠ User's age must be greater than {{age_threshold}}.\n",
    "{% else %}\n",
    "✨ Ya welcome, ya welcome. ✨\n",
    "{% endif %}\n",
    "\"\"\"\n",
    ").render()\n",
    "print(if_stmt_02.strip())\n"
   ]
  },
  {
   "cell_type": "code",
   "execution_count": null,
   "metadata": {},
   "outputs": [],
   "source": [
    "if_stmt_03 = Template(\n",
    "\"\"\"\n",
    "{% set gov = 'CAIRO' %}\n",
    "{% if gov | lower == \"cairo\" %}\n",
    "    Do something related to Cairo team\n",
    "{% elif gov | lower == \"giza\" %}\n",
    "    Do something related to Giza team\n",
    "{% else %}\n",
    "    Do not do anything.\n",
    "{% endif %}\n",
    "\"\"\"\n",
    ").render()\n",
    "print(if_stmt_03.strip())\n"
   ]
  },
  {
   "cell_type": "markdown",
   "metadata": {},
   "source": [
    "## `for` [Statement](https://jinja.palletsprojects.com/en/stable/templates/#for)"
   ]
  },
  {
   "cell_type": "code",
   "execution_count": null,
   "metadata": {},
   "outputs": [],
   "source": [
    "loop_01 = Template(\n",
    "\"\"\"\n",
    "{% set items = [ 'item_01','PRODUCT_02','item_03','item_02','item_04','PRODUCT_01' ] %}\n",
    "\n",
    "{% for item in items %}\n",
    "{{ item }}\n",
    "{% endfor %}\n",
    "\"\"\"\n",
    ").render()\n",
    "print(loop_01.strip())"
   ]
  },
  {
   "cell_type": "code",
   "execution_count": null,
   "metadata": {},
   "outputs": [],
   "source": [
    "loop_02 = Template(\n",
    "\"\"\"\n",
    "{% set items = [ 'item_01','item_03','item_02','item_04' ] %}\n",
    "\n",
    "\n",
    "{%- for item in items %}\n",
    "name: {{ item }} | idx: {{ loop.index }} | xidx:{{ loop.revindex}} | idx0: {{ loop.index0 }} | is_first: {{ loop.first }}\\t  is_last: {{ loop.last}} \\t  prev: {{ loop.previtem}} \\t next: {{ loop.nextitem}}\n",
    "{%- endfor %}\n",
    "\"\"\"\n",
    ").render()\n",
    "print(loop_02.strip())"
   ]
  },
  {
   "cell_type": "markdown",
   "metadata": {},
   "source": [
    "## Whitespace Control"
   ]
  },
  {
   "cell_type": "code",
   "execution_count": null,
   "metadata": {},
   "outputs": [],
   "source": [
    "whitespace_01 = Template(\n",
    "\"\"\"||\n",
    "{% set items = [ 'item_01','PRODUCT_02','item_03','item_02','item_04','PRODUCT_01' ] %}\n",
    "\n",
    "{% for item in items %}\n",
    "{{ item }}\n",
    "{% endfor %}\n",
    "\"\"\"\n",
    ").render()\n",
    "print(whitespace_01)"
   ]
  },
  {
   "cell_type": "code",
   "execution_count": null,
   "metadata": {},
   "outputs": [],
   "source": [
    "# Adding `-` at the beginning of each block (step 01)\n",
    "whitespace_02 = Template(\n",
    "\"\"\"||\n",
    "{%- set items = [ 'item_01','PRODUCT_02','item_03','item_02','item_04','PRODUCT_01' ] %}\n",
    "\n",
    "{% for item in items %}\n",
    "{{ item }}\n",
    "{% endfor %}\n",
    "\"\"\"\n",
    ").render()\n",
    "print(whitespace_02)"
   ]
  },
  {
   "cell_type": "code",
   "execution_count": null,
   "metadata": {},
   "outputs": [],
   "source": [
    "# Adding `-` at the beginning of each block (step 02)\n",
    "whitespace_03 = Template(\n",
    "\"\"\"||\n",
    "{%- set items = [ 'item_01','PRODUCT_02','item_03','item_02','item_04','PRODUCT_01' ] %}\n",
    "\n",
    "{%- for item in items %}\n",
    "{{ item }}\n",
    "{% endfor %}\n",
    "\"\"\"\n",
    ").render()\n",
    "print(whitespace_03)"
   ]
  },
  {
   "cell_type": "code",
   "execution_count": null,
   "metadata": {},
   "outputs": [],
   "source": [
    "# Adding `-` at the beginning of each block (step 02)\n",
    "whitespace_04 = Template(\n",
    "\"\"\"||\n",
    "{%- set items = [ 'item_01','PRODUCT_02','item_03','item_02','item_04','PRODUCT_01' ] %}\n",
    "\n",
    "{%- for item in items %}\n",
    "{{ item }}\n",
    "{%- endfor %}\n",
    "\"\"\"\n",
    ").render()\n",
    "print(whitespace_04)"
   ]
  },
  {
   "cell_type": "markdown",
   "metadata": {},
   "source": [
    "## [Tests](https://jinja.palletsprojects.com/en/stable/templates/#list-of-builtin-tests)\n",
    "⛔ Check the full list of built-in tests in the link above.\n",
    "- **operators**: `eq` / `ge` / `gt` / `in` / `le` / `lt` / `ne`\n",
    "- **special type**: `defined` / `undefined` / `none`\n",
    "- **data types** (primitive): `boolean` / `float` / `integer` / `number` / `string`\n",
    "- **data types**: `callable` / `iterable` / `mapping` / `sequence`\n",
    "- **string case**: `lower` / `upper`\n",
    "- **numbers**: `divisibleby` / `even` /  `odd`\n",
    "- **boolean**: `true` / `false`"
   ]
  },
  {
   "cell_type": "code",
   "execution_count": null,
   "metadata": {},
   "outputs": [],
   "source": [
    "# string\n",
    "tests = Template(\n",
    "\"\"\"\n",
    "{% set name = \"ahmed\" %}\n",
    "{% set sentence = \"   Hi, this is a Jinja variable    \" %}\n",
    "{% set user = dict(name=\"ahmed\", age=32, city=\"CAIRO\" ) %}\n",
    "{% set dates = [ '2024-05-12', '2024-06-07', '2024-11-07' ] %}\n",
    "{% set dates_sql = [ \"'2024-05-12'\", \"'2024-06-07'\", \"'2024-11-07'\" ] %}\n",
    "\n",
    "{{ name }} | upper >> {{ name is upper }}\n",
    "{{ user.city }} | upper >> {{ user.city is upper }}\n",
    "{{ user.age }} | number >> {{ user.age is number }}\n",
    "{{ user.age }} | float >> {{ user.age is float }}\n",
    "{{ user.age }} | string >> {{ user.age is string }}\n",
    "{{ user }} | mapping >> {{ user is mapping }}\n",
    "{{ dates }} | sequence >> {{ dates is sequence }}\n",
    "\"\"\"\n",
    ").render()\n",
    "print(tests.strip())"
   ]
  },
  {
   "cell_type": "markdown",
   "metadata": {},
   "source": [
    "## `select` / `reject` Filters"
   ]
  },
  {
   "cell_type": "code",
   "execution_count": null,
   "metadata": {},
   "outputs": [],
   "source": [
    "# select / reject\n",
    "select_reject_filters = Template(\n",
    "\"\"\"\n",
    "{% set items = [ 'item_01','PRODUCT_01','item_03','item_04','item_05','item_06' ] %}\n",
    "{% set prices = [ 1,2,3,4,5,6,7,8,9,10,11,12 ] %}\n",
    "\n",
    "{{ items }}\n",
    "select upper >> {{ items | select('upper') }}\n",
    "select upper >> {{ items | select('upper') | list }}\n",
    "reject upper >> {{ items | reject('upper') | list }}\n",
    "\n",
    "{{ prices }}\n",
    "select prices >> {{ prices | select('ge', 7) | list }}\n",
    "select prices >> {{ prices | select('in', [1,4,8,3] ) | list }}\n",
    "reject prices >> {{ prices | reject('in', [1,4,8,3] ) | list }}\n",
    "\n",
    "\"\"\"\n",
    ").render()\n",
    "print(select_reject_filters.strip())"
   ]
  },
  {
   "cell_type": "code",
   "execution_count": null,
   "metadata": {},
   "outputs": [],
   "source": [
    "from jinja2 import BaseLoader, Environment\n",
    "\n",
    "env = Environment(loader=BaseLoader)\n",
    "\n",
    "def start_with(value:str, prefix:str=\"\") -> bool:\n",
    "    return value.startswith(prefix)\n",
    "\n",
    "\n",
    "env.tests['starts_with'] = start_with\n",
    "\n",
    "select_reject_filters = env.from_string(\n",
    "\"\"\"\n",
    "{% set items = [ 'item_01','PRODUCT_02','item_03','item_02','item_04','PRODUCT_01' ] %}\n",
    "\n",
    "{{ items | select('starts_with', 'item') | list }}\n",
    "{{ items | select('starts_with', 'product') | list }}\n",
    "{{ items | select('starts_with', 'PRODUCT') | list | sort }}\n",
    "\"\"\"\n",
    ").render()\n",
    "print(select_reject_filters.strip())"
   ]
  }
 ],
 "metadata": {
  "kernelspec": {
   "display_name": ".venv",
   "language": "python",
   "name": "python3"
  },
  "language_info": {
   "codemirror_mode": {
    "name": "ipython",
    "version": 3
   },
   "file_extension": ".py",
   "mimetype": "text/x-python",
   "name": "python",
   "nbconvert_exporter": "python",
   "pygments_lexer": "ipython3",
   "version": "3.11.5"
  }
 },
 "nbformat": 4,
 "nbformat_minor": 2
}
